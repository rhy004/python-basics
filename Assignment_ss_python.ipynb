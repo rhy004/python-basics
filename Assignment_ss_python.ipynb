{
  "nbformat": 4,
  "nbformat_minor": 0,
  "metadata": {
    "colab": {
      "provenance": [],
      "authorship_tag": "ABX9TyPcuDuN0QKC71BXHbrM6tGw",
      "include_colab_link": true
    },
    "kernelspec": {
      "name": "python3",
      "display_name": "Python 3"
    },
    "language_info": {
      "name": "python"
    }
  },
  "cells": [
    {
      "cell_type": "markdown",
      "metadata": {
        "id": "view-in-github",
        "colab_type": "text"
      },
      "source": [
        "<a href=\"https://colab.research.google.com/github/rhy004/python-basics/blob/main/Assignment_ss_python.ipynb\" target=\"_parent\"><img src=\"https://colab.research.google.com/assets/colab-badge.svg\" alt=\"Open In Colab\"/></a>"
      ]
    },
    {
      "cell_type": "code",
      "execution_count": null,
      "metadata": {
        "colab": {
          "base_uri": "https://localhost:8080/"
        },
        "id": "oSKOzJy4Mw1Z",
        "outputId": "3e7ca89e-94a3-4658-cd91-3b8aeb43fea8"
      },
      "outputs": [
        {
          "output_type": "stream",
          "name": "stdout",
          "text": [
            "[11, 12, 13, 14, 50]\n"
          ]
        }
      ],
      "source": [
        "L=[11,12,13,14]\n",
        "L.append(50)\n",
        "print(L)"
      ]
    },
    {
      "cell_type": "code",
      "source": [
        "L.append(60)\n",
        "print(L)"
      ],
      "metadata": {
        "colab": {
          "base_uri": "https://localhost:8080/"
        },
        "id": "CQPa_CXMREp3",
        "outputId": "38de1626-a7af-49e8-f592-58e761223111"
      },
      "execution_count": null,
      "outputs": [
        {
          "output_type": "stream",
          "name": "stdout",
          "text": [
            "[11, 12, 13, 14, 50, 60]\n"
          ]
        }
      ]
    },
    {
      "cell_type": "code",
      "source": [
        "L.remove(11)\n",
        "print(L)"
      ],
      "metadata": {
        "colab": {
          "base_uri": "https://localhost:8080/"
        },
        "id": "IyvZ02ptRJL-",
        "outputId": "50cc3841-2f43-4da8-d6c2-c40be7226752"
      },
      "execution_count": null,
      "outputs": [
        {
          "output_type": "stream",
          "name": "stdout",
          "text": [
            "[12, 13, 14, 50, 60]\n"
          ]
        }
      ]
    },
    {
      "cell_type": "code",
      "source": [
        "L.remove(13)\n",
        "print(L)"
      ],
      "metadata": {
        "colab": {
          "base_uri": "https://localhost:8080/"
        },
        "id": "UT1K-FyBRbbO",
        "outputId": "af54715f-0912-41b3-8c72-e1e4e0af3543"
      },
      "execution_count": null,
      "outputs": [
        {
          "output_type": "stream",
          "name": "stdout",
          "text": [
            "[12, 14, 50, 60]\n"
          ]
        }
      ]
    },
    {
      "cell_type": "code",
      "source": [
        "L.sort()\n",
        "print(L)"
      ],
      "metadata": {
        "colab": {
          "base_uri": "https://localhost:8080/"
        },
        "id": "FLzj530NRhnE",
        "outputId": "147a92da-4d7b-405c-824c-c98986952028"
      },
      "execution_count": null,
      "outputs": [
        {
          "output_type": "stream",
          "name": "stdout",
          "text": [
            "[12, 14, 50, 60]\n"
          ]
        }
      ]
    },
    {
      "cell_type": "code",
      "source": [
        "L.sort(reverse=True)\n",
        "print(L)"
      ],
      "metadata": {
        "colab": {
          "base_uri": "https://localhost:8080/"
        },
        "id": "SQ5qEVV4RllC",
        "outputId": "08cd507c-80bc-4ce1-f574-e0482e8a6a69"
      },
      "execution_count": null,
      "outputs": [
        {
          "output_type": "stream",
          "name": "stdout",
          "text": [
            "[60, 50, 14, 12]\n"
          ]
        }
      ]
    },
    {
      "cell_type": "code",
      "source": [
        "try:\n",
        "  L.index(13)\n",
        "except:\n",
        "  print(\"element not found\")\n"
      ],
      "metadata": {
        "colab": {
          "base_uri": "https://localhost:8080/"
        },
        "id": "Dy7se3iZRsBG",
        "outputId": "e1097e63-b7df-4023-8080-083135d5ea57"
      },
      "execution_count": null,
      "outputs": [
        {
          "output_type": "stream",
          "name": "stdout",
          "text": [
            "element not found\n"
          ]
        }
      ]
    },
    {
      "cell_type": "code",
      "source": [
        "L.index(60)"
      ],
      "metadata": {
        "colab": {
          "base_uri": "https://localhost:8080/"
        },
        "id": "qy5bTcbwSCA-",
        "outputId": "108601ac-fbf6-49eb-9954-80bd47d955c5"
      },
      "execution_count": null,
      "outputs": [
        {
          "output_type": "execute_result",
          "data": {
            "text/plain": [
              "0"
            ]
          },
          "metadata": {},
          "execution_count": 11
        }
      ]
    },
    {
      "cell_type": "code",
      "source": [
        "len(L)"
      ],
      "metadata": {
        "colab": {
          "base_uri": "https://localhost:8080/"
        },
        "id": "qSAdnHE0SF5V",
        "outputId": "54bc93bc-185d-4304-d773-7059816ec2ce"
      },
      "execution_count": null,
      "outputs": [
        {
          "output_type": "execute_result",
          "data": {
            "text/plain": [
              "4"
            ]
          },
          "metadata": {},
          "execution_count": 13
        }
      ]
    },
    {
      "cell_type": "code",
      "source": [
        "sum(L)"
      ],
      "metadata": {
        "colab": {
          "base_uri": "https://localhost:8080/"
        },
        "id": "g6svdJXSeKaR",
        "outputId": "db1379f1-d001-4e92-e735-c2f0642c5cb9"
      },
      "execution_count": null,
      "outputs": [
        {
          "output_type": "execute_result",
          "data": {
            "text/plain": [
              "136"
            ]
          },
          "metadata": {},
          "execution_count": 14
        }
      ]
    },
    {
      "cell_type": "code",
      "source": [
        "odd_sum=sum(i for i in L if i%2 != 0)\n",
        "print (odd_sum)"
      ],
      "metadata": {
        "colab": {
          "base_uri": "https://localhost:8080/"
        },
        "id": "P_2ppiOLeMwd",
        "outputId": "d8b69cdf-486f-4f35-bed2-b2418f0b4411"
      },
      "execution_count": null,
      "outputs": [
        {
          "output_type": "stream",
          "name": "stdout",
          "text": [
            "0\n"
          ]
        }
      ]
    },
    {
      "cell_type": "code",
      "source": [
        "even_sum=sum(i for i in L if i%2 == 0)\n",
        "print (even_sum)"
      ],
      "metadata": {
        "colab": {
          "base_uri": "https://localhost:8080/"
        },
        "id": "rKX3IfWaghG5",
        "outputId": "b006fa1b-067c-44db-fad5-8b47cef9f25e"
      },
      "execution_count": null,
      "outputs": [
        {
          "output_type": "stream",
          "name": "stdout",
          "text": [
            "136\n"
          ]
        }
      ]
    },
    {
      "cell_type": "code",
      "source": [
        "def is_prime(n):\n",
        "  for i in range(2, (n//2) +1):\n",
        "    if n%i==0:\n",
        "      return False\n",
        "  return True\n",
        "prime_sum = sum(num for num in L if is_prime(num))\n",
        "print(prime_sum)"
      ],
      "metadata": {
        "colab": {
          "base_uri": "https://localhost:8080/"
        },
        "id": "Re6hdHWqgrIo",
        "outputId": "cda494c7-277e-4591-f85a-aebed6bf43ea"
      },
      "execution_count": null,
      "outputs": [
        {
          "output_type": "stream",
          "name": "stdout",
          "text": [
            "0\n"
          ]
        }
      ]
    },
    {
      "cell_type": "code",
      "source": [
        "L.clear()\n",
        "print(L)"
      ],
      "metadata": {
        "colab": {
          "base_uri": "https://localhost:8080/"
        },
        "id": "XYxG1n0hkR11",
        "outputId": "275e28cd-793b-4c7a-a283-900c3bd8a5cf"
      },
      "execution_count": null,
      "outputs": [
        {
          "output_type": "stream",
          "name": "stdout",
          "text": [
            "[]\n"
          ]
        }
      ]
    },
    {
      "cell_type": "code",
      "source": [
        "del L\n",
        "print(L)"
      ],
      "metadata": {
        "colab": {
          "base_uri": "https://localhost:8080/",
          "height": 182
        },
        "id": "IjGMK16lkacl",
        "outputId": "74975507-7bd6-436f-d4c6-4a8cb0204416"
      },
      "execution_count": null,
      "outputs": [
        {
          "output_type": "error",
          "ename": "NameError",
          "evalue": "ignored",
          "traceback": [
            "\u001b[0;31m---------------------------------------------------------------------------\u001b[0m",
            "\u001b[0;31mNameError\u001b[0m                                 Traceback (most recent call last)",
            "\u001b[0;32m<ipython-input-22-a090824c5da0>\u001b[0m in \u001b[0;36m<cell line: 1>\u001b[0;34m()\u001b[0m\n\u001b[0;32m----> 1\u001b[0;31m \u001b[0;32mdel\u001b[0m \u001b[0mL\u001b[0m\u001b[0;34m\u001b[0m\u001b[0;34m\u001b[0m\u001b[0m\n\u001b[0m\u001b[1;32m      2\u001b[0m \u001b[0mprint\u001b[0m\u001b[0;34m(\u001b[0m\u001b[0mL\u001b[0m\u001b[0;34m)\u001b[0m\u001b[0;34m\u001b[0m\u001b[0;34m\u001b[0m\u001b[0m\n",
            "\u001b[0;31mNameError\u001b[0m: name 'L' is not defined"
          ]
        }
      ]
    },
    {
      "cell_type": "code",
      "source": [
        "D={1:5.6 , 2:7.8 , 3:6.6 , 4:8.7 , 5:7.7}\n",
        "D[8]=8.8\n",
        "print(D)\n"
      ],
      "metadata": {
        "colab": {
          "base_uri": "https://localhost:8080/"
        },
        "id": "YBp9AEWYklCI",
        "outputId": "aec3ac21-c1bb-4953-ce0c-11a43c60114f"
      },
      "execution_count": null,
      "outputs": [
        {
          "output_type": "stream",
          "name": "stdout",
          "text": [
            "{1: 5.6, 2: 7.8, 3: 6.6, 4: 8.7, 5: 7.7, 8: 8.8}\n"
          ]
        }
      ]
    },
    {
      "cell_type": "code",
      "source": [
        "del D[2]\n",
        "print(D)"
      ],
      "metadata": {
        "colab": {
          "base_uri": "https://localhost:8080/"
        },
        "id": "j0ym8llDm6Bn",
        "outputId": "c26b2fda-2806-4694-9b5f-557e99a82e15"
      },
      "execution_count": null,
      "outputs": [
        {
          "output_type": "stream",
          "name": "stdout",
          "text": [
            "{1: 5.6, 3: 6.6, 4: 8.7, 5: 7.7, 8: 8.8}\n"
          ]
        }
      ]
    },
    {
      "cell_type": "code",
      "source": [
        "if 6 in D:\n",
        "  print(\"present\")\n",
        "else:\n",
        "  print(\"not present\")"
      ],
      "metadata": {
        "colab": {
          "base_uri": "https://localhost:8080/"
        },
        "id": "VYLkB4pnnCdV",
        "outputId": "676045c7-5b97-456f-e832-63dd4552c666"
      },
      "execution_count": null,
      "outputs": [
        {
          "output_type": "stream",
          "name": "stdout",
          "text": [
            "not present\n"
          ]
        }
      ]
    },
    {
      "cell_type": "code",
      "source": [
        "len(D)"
      ],
      "metadata": {
        "colab": {
          "base_uri": "https://localhost:8080/"
        },
        "id": "gUMbZphnna4G",
        "outputId": "81d91a92-9707-402c-9c21-6bed91056308"
      },
      "execution_count": null,
      "outputs": [
        {
          "output_type": "execute_result",
          "data": {
            "text/plain": [
              "5"
            ]
          },
          "metadata": {},
          "execution_count": 26
        }
      ]
    },
    {
      "cell_type": "code",
      "source": [
        "sum(D)# sum of keys"
      ],
      "metadata": {
        "colab": {
          "base_uri": "https://localhost:8080/"
        },
        "id": "hj645ZTmngEv",
        "outputId": "8901351a-e6a9-4ae5-c16e-4ab88bd74cb9"
      },
      "execution_count": null,
      "outputs": [
        {
          "output_type": "execute_result",
          "data": {
            "text/plain": [
              "21"
            ]
          },
          "metadata": {},
          "execution_count": 27
        }
      ]
    },
    {
      "cell_type": "code",
      "source": [
        "sum(D.values()) #sum of values"
      ],
      "metadata": {
        "colab": {
          "base_uri": "https://localhost:8080/"
        },
        "id": "A8gBy8D3oEOv",
        "outputId": "c1ac2557-1946-429c-f560-85296332b2e5"
      },
      "execution_count": null,
      "outputs": [
        {
          "output_type": "execute_result",
          "data": {
            "text/plain": [
              "37.4"
            ]
          },
          "metadata": {},
          "execution_count": 28
        }
      ]
    },
    {
      "cell_type": "code",
      "source": [
        "D[3]=7.1\n",
        "print(D)"
      ],
      "metadata": {
        "colab": {
          "base_uri": "https://localhost:8080/"
        },
        "id": "Im__uGNXoJ_m",
        "outputId": "61155d08-f9ad-48fb-a592-2c599586cc5e"
      },
      "execution_count": null,
      "outputs": [
        {
          "output_type": "stream",
          "name": "stdout",
          "text": [
            "{1: 5.6, 3: 7.1, 4: 8.7, 5: 7.7, 8: 8.8}\n"
          ]
        }
      ]
    },
    {
      "cell_type": "code",
      "source": [
        "D.clear()\n",
        "print(D)"
      ],
      "metadata": {
        "colab": {
          "base_uri": "https://localhost:8080/"
        },
        "id": "fDTUW4jEoSoj",
        "outputId": "27b1287b-fc02-4422-e793-ec477ec23cf6"
      },
      "execution_count": null,
      "outputs": [
        {
          "output_type": "stream",
          "name": "stdout",
          "text": [
            "{}\n"
          ]
        }
      ]
    },
    {
      "cell_type": "code",
      "source": [
        "S1={10,20,30,40,50,60}\n",
        "S2={40,50,60,70,80,90}\n",
        "print(S1)\n",
        "print(S2)\n",
        "\n"
      ],
      "metadata": {
        "colab": {
          "base_uri": "https://localhost:8080/"
        },
        "id": "iouq9gVIq7sg",
        "outputId": "889aa853-0877-489f-ecef-1414b003f318"
      },
      "execution_count": null,
      "outputs": [
        {
          "output_type": "stream",
          "name": "stdout",
          "text": [
            "{50, 20, 40, 10, 60, 30}\n",
            "{80, 50, 70, 40, 90, 60}\n"
          ]
        }
      ]
    },
    {
      "cell_type": "code",
      "source": [
        "S1.add(55)\n",
        "print(S1)\n",
        "S1.add(66)\n",
        "print(S1)"
      ],
      "metadata": {
        "colab": {
          "base_uri": "https://localhost:8080/"
        },
        "id": "NirMQJtFzyWn",
        "outputId": "48fb83b3-8e6a-4d6c-c30f-d5dee86c869b"
      },
      "execution_count": null,
      "outputs": [
        {
          "output_type": "stream",
          "name": "stdout",
          "text": [
            "{50, 20, 55, 40, 10, 60, 30}\n",
            "{50, 66, 20, 55, 40, 10, 60, 30}\n"
          ]
        }
      ]
    },
    {
      "cell_type": "code",
      "source": [
        "S1.remove(10)\n",
        "S1.remove(30)\n",
        "print(S1)"
      ],
      "metadata": {
        "colab": {
          "base_uri": "https://localhost:8080/"
        },
        "id": "OlgjgXpW0Lep",
        "outputId": "1e8a90f8-b970-458a-fc04-798439f1a809"
      },
      "execution_count": null,
      "outputs": [
        {
          "output_type": "stream",
          "name": "stdout",
          "text": [
            "{50, 66, 20, 55, 40, 60}\n"
          ]
        }
      ]
    },
    {
      "cell_type": "code",
      "source": [
        "if 40 in S1:\n",
        "  print(\"present\")\n",
        "else:\n",
        "  print(\"not present\")"
      ],
      "metadata": {
        "colab": {
          "base_uri": "https://localhost:8080/"
        },
        "id": "9P12AI570aOQ",
        "outputId": "c703ca6c-6bd4-4571-bd65-07bacb806a8e"
      },
      "execution_count": null,
      "outputs": [
        {
          "output_type": "stream",
          "name": "stdout",
          "text": [
            "present\n"
          ]
        }
      ]
    },
    {
      "cell_type": "code",
      "source": [
        "S1.union(S2)"
      ],
      "metadata": {
        "colab": {
          "base_uri": "https://localhost:8080/"
        },
        "id": "cVrrEm_n14Q2",
        "outputId": "03db1e4f-9de9-42c4-98ea-e922827ae263"
      },
      "execution_count": null,
      "outputs": [
        {
          "output_type": "execute_result",
          "data": {
            "text/plain": [
              "{20, 40, 50, 55, 60, 66, 70, 80, 90}"
            ]
          },
          "metadata": {},
          "execution_count": 43
        }
      ]
    },
    {
      "cell_type": "code",
      "source": [
        "S1.intersection(S2)"
      ],
      "metadata": {
        "colab": {
          "base_uri": "https://localhost:8080/"
        },
        "id": "1vW3x1Wn2Am1",
        "outputId": "095fff03-e0af-4260-ab93-cac9246ff4be"
      },
      "execution_count": null,
      "outputs": [
        {
          "output_type": "execute_result",
          "data": {
            "text/plain": [
              "{40, 50, 60}"
            ]
          },
          "metadata": {},
          "execution_count": 44
        }
      ]
    },
    {
      "cell_type": "code",
      "source": [
        "S1.difference(S2)"
      ],
      "metadata": {
        "colab": {
          "base_uri": "https://localhost:8080/"
        },
        "id": "KN1oOzSk2Hm-",
        "outputId": "1d3e618d-232a-40f2-be43-9155ce6fa37d"
      },
      "execution_count": null,
      "outputs": [
        {
          "output_type": "execute_result",
          "data": {
            "text/plain": [
              "{20, 55, 66}"
            ]
          },
          "metadata": {},
          "execution_count": 45
        }
      ]
    },
    {
      "cell_type": "code",
      "source": [
        "def is_prime(n): \n",
        "   for i in range(2, (n//2) + 1):\n",
        "            if n % i == 0:\n",
        "                          return False\n",
        "   return True\n",
        "\n",
        "print(\"Prime numbers between 600 and 800:\")\n",
        "for num in range(600, 801):\n",
        "    if is_prime(num):\n",
        "        print(num)\n"
      ],
      "metadata": {
        "colab": {
          "base_uri": "https://localhost:8080/"
        },
        "id": "zL844QBP525g",
        "outputId": "52f41155-24fd-4338-c5e2-e54a993626e6"
      },
      "execution_count": null,
      "outputs": [
        {
          "output_type": "stream",
          "name": "stdout",
          "text": [
            "Prime numbers between 600 and 800:\n",
            "601\n",
            "607\n",
            "613\n",
            "617\n",
            "619\n",
            "631\n",
            "641\n",
            "643\n",
            "647\n",
            "653\n",
            "659\n",
            "661\n",
            "673\n",
            "677\n",
            "683\n",
            "691\n",
            "701\n",
            "709\n",
            "719\n",
            "727\n",
            "733\n",
            "739\n",
            "743\n",
            "751\n",
            "757\n",
            "761\n",
            "769\n",
            "773\n",
            "787\n",
            "797\n"
          ]
        }
      ]
    },
    {
      "cell_type": "code",
      "source": [
        "for num in range(100, 1001):\n",
        "    if num % 7 == 0 and num % 9 == 0:\n",
        "        print(num)"
      ],
      "metadata": {
        "colab": {
          "base_uri": "https://localhost:8080/"
        },
        "id": "SL1gF3Dv9y7_",
        "outputId": "734fe738-cc3c-426a-9251-24c9569f64f9"
      },
      "execution_count": null,
      "outputs": [
        {
          "output_type": "stream",
          "name": "stdout",
          "text": [
            "126\n",
            "189\n",
            "252\n",
            "315\n",
            "378\n",
            "441\n",
            "504\n",
            "567\n",
            "630\n",
            "693\n",
            "756\n",
            "819\n",
            "882\n",
            "945\n"
          ]
        }
      ]
    },
    {
      "cell_type": "code",
      "source": [
        "import random\n",
        "\n",
        "# Create two lists of 10 random numbers between 10 and 30\n",
        "list1 = random.sample(range(10, 31), 10)\n",
        "list2 = random.sample(range(10, 31), 10)\n",
        "\n",
        "print(\"List 1:\", list1)\n",
        "print(\"List 2:\", list2)\n",
        "\n",
        "# (i) Find common numbers in the two lists\n",
        "common_numbers = list(set(list1) & set(list2))\n",
        "print(\"Common numbers:\", common_numbers)\n",
        "\n",
        "# (ii) Find unique numbers in both the lists\n",
        "unique_numbers = list(set(list1) ^ set(list2))\n",
        "print(\"Unique numbers:\", unique_numbers)\n",
        "\n",
        "# (iii) Find the minimum in both the lists\n",
        "min1 = min(list1)\n",
        "min2 = min(list2)\n",
        "print(\"Minimum in List 1:\", min1)\n",
        "print(\"Minimum in List 2:\", min2)\n",
        "\n",
        "# (iv) Find the maximum in both the lists\n",
        "max1 = max(list1)\n",
        "max2 = max(list2)\n",
        "print(\"Maximum in List 1:\", max1)\n",
        "print(\"Maximum in List 2:\", max2)\n",
        "\n",
        "# (v) Find the sum of both the lists\n",
        "sum1 = sum(list1)\n",
        "sum2 = sum(list2)\n",
        "print(\"Sum of List 1:\", sum1)\n",
        "print(\"Sum of List 2:\", sum2)\n"
      ],
      "metadata": {
        "colab": {
          "base_uri": "https://localhost:8080/"
        },
        "id": "2oy_u3fp95f2",
        "outputId": "ec225b98-e855-4068-e279-04263761eb7c"
      },
      "execution_count": null,
      "outputs": [
        {
          "output_type": "stream",
          "name": "stdout",
          "text": [
            "List 1: [13, 14, 16, 25, 26, 20, 21, 30, 12, 11]\n",
            "List 2: [16, 24, 17, 29, 22, 27, 28, 11, 30, 12]\n",
            "Common numbers: [16, 11, 12, 30]\n",
            "Unique numbers: [13, 14, 17, 20, 21, 22, 24, 25, 26, 27, 28, 29]\n",
            "Minimum in List 1: 11\n",
            "Minimum in List 2: 11\n",
            "Maximum in List 1: 30\n",
            "Maximum in List 2: 30\n",
            "Sum of List 1: 188\n",
            "Sum of List 2: 216\n"
          ]
        }
      ]
    },
    {
      "cell_type": "code",
      "source": [
        "import random\n",
        "\n",
        "# Create a list of 100 random numbers between 100 and 900\n",
        "random_numbers = random.sample(range(100, 901), 100)\n",
        "\n",
        "# (i) Count and print all odd numbers\n",
        "odd_numbers = [num for num in random_numbers if num % 2 != 0]\n",
        "count_odd = len(odd_numbers)\n",
        "print(\"Odd numbers:\", odd_numbers)\n",
        "print(\"Count of odd numbers:\", count_odd)\n",
        "\n",
        "# (ii) Count and print all even numbers\n",
        "even_numbers = [num for num in random_numbers if num % 2 == 0]\n",
        "count_even = len(even_numbers)\n",
        "print(\"Even numbers:\", even_numbers)\n",
        "print(\"Count of even numbers:\", count_even)\n",
        "\n",
        "# (iii) Count and print all prime numbers\n",
        "def is_prime(n):\n",
        "    if n < 2:\n",
        "        return False\n",
        "    for i in range(2, (n//2) + 1):\n",
        "        if n % i == 0:\n",
        "            return False\n",
        "    return True\n",
        "\n",
        "prime_numbers = [num for num in random_numbers if is_prime(num)]\n",
        "count_prime = len(prime_numbers)\n",
        "print(\"Prime numbers:\", prime_numbers)\n",
        "print(\"Count of prime numbers:\", count_prime)\n"
      ],
      "metadata": {
        "colab": {
          "base_uri": "https://localhost:8080/"
        },
        "id": "YPf_TWj-K7lc",
        "outputId": "9b69ef0a-75fb-4512-eeab-8f9e2e3abebe"
      },
      "execution_count": null,
      "outputs": [
        {
          "output_type": "stream",
          "name": "stdout",
          "text": [
            "Odd numbers: [417, 873, 829, 459, 253, 181, 541, 349, 293, 891, 603, 749, 587, 477, 791, 709, 135, 841, 659, 271, 473, 169, 475, 307, 551, 103, 859, 619, 123, 115, 357, 699, 707, 491, 245, 639, 661, 227, 365, 415, 693, 887, 367, 547, 429, 269, 187, 221, 407, 767, 427, 649, 165, 321, 559, 283, 573]\n",
            "Count of odd numbers: 57\n",
            "Even numbers: [308, 178, 698, 212, 838, 450, 558, 660, 302, 258, 444, 136, 404, 842, 692, 518, 378, 118, 802, 114, 510, 200, 270, 734, 480, 706, 648, 678, 858, 222, 684, 672, 310, 800, 340, 626, 210, 448, 820, 314, 688, 744, 524]\n",
            "Count of even numbers: 43\n",
            "Prime numbers: [829, 181, 541, 349, 293, 587, 709, 659, 271, 307, 103, 859, 619, 491, 661, 227, 887, 367, 547, 269, 283]\n",
            "Count of prime numbers: 21\n"
          ]
        }
      ]
    },
    {
      "cell_type": "code",
      "source": [
        "D = {1: \"One\", 2: \"Two\", 3: \"Three\", 4: \"Four\", 5: \"Five\"}\n",
        "\n",
        "# Open a file in write mode\n",
        "with open(\"dictionary_output.txt\", \"w\") as file:\n",
        "    # Iterate over the dictionary items\n",
        "    for key, value in D.items():\n",
        "        # Write the key-value pair to the file\n",
        "        file.write(f\"{key}, {value}\\n\")\n",
        "\n",
        "print(\"Data has been written to the file 'dictionary_output.txt'.\")\n"
      ],
      "metadata": {
        "colab": {
          "base_uri": "https://localhost:8080/"
        },
        "id": "cQ8BKb6cLQ5H",
        "outputId": "2124310b-4b31-4262-ee78-b7b88b44cbad"
      },
      "execution_count": null,
      "outputs": [
        {
          "output_type": "stream",
          "name": "stdout",
          "text": [
            "Data has been written to the file 'dictionary_output.txt'.\n"
          ]
        }
      ]
    },
    {
      "cell_type": "code",
      "source": [
        "import random\n",
        "import string\n",
        "\n",
        "def generate_random_string():\n",
        "    length = random.randint(10, 15)\n",
        "    return ''.join(random.choices(string.ascii_letters + string.digits, k=length))\n",
        "\n",
        "# Generate 100 random strings\n",
        "random_strings = [generate_random_string() for _ in range(100)]\n",
        "\n",
        "# Write the strings to a file\n",
        "with open(\"random_strings.txt\", \"w\") as file:\n",
        "    for string in random_strings:\n",
        "        file.write(string + \"\\n\")\n",
        "\n",
        "print(\"Random strings have been written to random_strings.txt file.\")\n"
      ],
      "metadata": {
        "colab": {
          "base_uri": "https://localhost:8080/"
        },
        "id": "R-_AHOejUH-5",
        "outputId": "64e627ea-4471-4a8f-e454-edbbd70c039b"
      },
      "execution_count": 1,
      "outputs": [
        {
          "output_type": "stream",
          "name": "stdout",
          "text": [
            "Random strings have been written to random_strings.txt file.\n"
          ]
        }
      ]
    },
    {
      "cell_type": "code",
      "source": [
        "def is_prime(n):\n",
        "    if n < 2:\n",
        "        return False\n",
        "    for i in range(2, int(n**0.5) + 1):\n",
        "        if n % i == 0:\n",
        "            return False\n",
        "    return True\n",
        "\n",
        "# Find prime numbers between 600 and 800\n",
        "prime_numbers = [n for n in range(600, 801) if is_prime(n)]\n",
        "\n",
        "# Write the prime numbers to a file\n",
        "with open(\"prime_numbers.txt\", \"w\") as file:\n",
        "    for number in prime_numbers:\n",
        "        file.write(str(number) + \"\\n\")\n",
        "\n",
        "print(\"Prime numbers have been written to prime_numbers.txt file.\")\n"
      ],
      "metadata": {
        "colab": {
          "base_uri": "https://localhost:8080/"
        },
        "id": "DQRuhHN3b0_a",
        "outputId": "d3d15ecb-25ea-43cc-9fb9-588fd81340b9"
      },
      "execution_count": 2,
      "outputs": [
        {
          "output_type": "stream",
          "name": "stdout",
          "text": [
            "Prime numbers have been written to prime_numbers.txt file.\n"
          ]
        }
      ]
    },
    {
      "cell_type": "code",
      "source": [
        "import time\n",
        "\n",
        "def sort_list(num_elements):\n",
        "    # Generate a list with random elements\n",
        "    my_list = [random.randint(1, 100) for _ in range(num_elements)]\n",
        "\n",
        "    # Start the timer\n",
        "    start_time = time.time()\n",
        "\n",
        "    # Sort the list\n",
        "    sorted_list = sorted(my_list)\n",
        "\n",
        "    # End the timer\n",
        "    end_time = time.time()\n",
        "\n",
        "    # Calculate the elapsed time\n",
        "    elapsed_time = end_time - start_time\n",
        "\n",
        "    return elapsed_time\n",
        "\n",
        "# Define the number of elements in the list\n",
        "num_elements = [5000, 10000, 15000, 20000, 25000]\n",
        "\n",
        "# Measure the time taken for sorting each list\n",
        "time_taken = []\n",
        "for num in num_elements:\n",
        "    time_taken.append(sort_list(num))\n",
        "\n",
        "# Display the results\n",
        "print(\"Number of elements in list\\tTime Taken\")\n",
        "for i in range(len(num_elements)):\n",
        "    print(f\"{num_elements[i]}k\\t\\t\\t{time_taken[i]}\")\n",
        "\n"
      ],
      "metadata": {
        "colab": {
          "base_uri": "https://localhost:8080/"
        },
        "id": "EYu1wxuqc9pt",
        "outputId": "693efb64-c8e4-4e0e-ff67-b0138685be83"
      },
      "execution_count": 3,
      "outputs": [
        {
          "output_type": "stream",
          "name": "stdout",
          "text": [
            "Number of elements in list\tTime Taken\n",
            "5000k\t\t\t0.0005939006805419922\n",
            "10000k\t\t\t0.001138925552368164\n",
            "15000k\t\t\t0.0021054744720458984\n",
            "20000k\t\t\t0.002228975296020508\n",
            "25000k\t\t\t0.002870798110961914\n"
          ]
        }
      ]
    }
  ]
}